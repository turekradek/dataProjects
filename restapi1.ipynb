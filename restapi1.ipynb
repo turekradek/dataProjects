{
 "cells": [
  {
   "cell_type": "code",
   "execution_count": 1,
   "metadata": {},
   "outputs": [],
   "source": [
    "import pandas as pd\n",
    "import numpy as np\n",
    "import requests\n",
    "import os\n",
    "import zipfile\n",
    "import xlsxwriter\n",
    "from sqlalchemy import create_engine"
   ]
  },
  {
   "cell_type": "code",
   "execution_count": 17,
   "metadata": {},
   "outputs": [
    {
     "name": "stdout",
     "output_type": "stream",
     "text": [
      "7B1HcPnYvhvescmIPEsC6A==mThqXWQVgvMo1l7U\n",
      "[{\"city_mpg\": 18, \"class\": \"midsize car\", \"combination_mpg\": 21, \"cylinders\": 4, \"displacement\": 2.2, \"drive\": \"fwd\", \"fuel_type\": \"gas\", \"highway_mpg\": 26, \"make\": \"toyota\", \"model\": \"camry\", \"transmission\": \"a\", \"year\": 1993}, {\"city_mpg\": 19, \"class\": \"midsize car\", \"combination_mpg\": 22, \"cylinders\": 4, \"displacement\": 2.2, \"drive\": \"fwd\", \"fuel_type\": \"gas\", \"highway_mpg\": 27, \"make\": \"toyota\", \"model\": \"camry\", \"transmission\": \"m\", \"year\": 1993}, {\"city_mpg\": 16, \"class\": \"midsize car\", \"combination_mpg\": 19, \"cylinders\": 6, \"displacement\": 3.0, \"drive\": \"fwd\", \"fuel_type\": \"gas\", \"highway_mpg\": 22, \"make\": \"toyota\", \"model\": \"camry\", \"transmission\": \"a\", \"year\": 1993}, {\"city_mpg\": 16, \"class\": \"midsize car\", \"combination_mpg\": 18, \"cylinders\": 6, \"displacement\": 3.0, \"drive\": \"fwd\", \"fuel_type\": \"gas\", \"highway_mpg\": 22, \"make\": \"toyota\", \"model\": \"camry\", \"transmission\": \"m\", \"year\": 1993}, {\"city_mpg\": 18, \"class\": \"midsize-large station wagon\", \"combination_mpg\": 21, \"cylinders\": 4, \"displacement\": 2.2, \"drive\": \"fwd\", \"fuel_type\": \"gas\", \"highway_mpg\": 26, \"make\": \"toyota\", \"model\": \"camry wagon\", \"transmission\": \"a\", \"year\": 1993}]\n"
     ]
    }
   ],
   "source": [
    "model = 'camry'\n",
    "with open( r'../NOTES/key.txt','r') as keyfile:\n",
    "    key_api = keyfile.readline().split()[0]\n",
    "print( key_api ) \n",
    "api_url = 'https://api.api-ninjas.com/v1/cars?model={}'.format(model)\n",
    "response = requests.get(api_url, headers={'X-Api-Key': key_api})\n",
    "if response.status_code == requests.codes.ok:\n",
    "    print(response.text)\n",
    "else:\n",
    "    print(\"Error:\", response.status_code, response.text)"
   ]
  },
  {
   "cell_type": "code",
   "execution_count": 33,
   "metadata": {},
   "outputs": [],
   "source": [
    "class ApiClient:\n",
    "        def __init__(self, base_url):\n",
    "                self.base_url = base_url\n",
    "                \n",
    "        def make_requests( self, endpoint,  params=None):\n",
    "                try:\n",
    "                        # Construct the full URL\n",
    "                        url = f\"{self.base_url}{endpoint}\"\n",
    "                        # print( f'base_url = {base_url}')\n",
    "                        print( f'base_url = {url}')\n",
    "                        # Make a GET request to the API\n",
    "                        response = requests.get(url, headers={'X-Api-Key': '7B1HcPnYvhvescmIPEsC6A==mThqXWQVgvMo1l7U'})\n",
    "                        \n",
    "                        # check if the request was siccessfi; ) statis cpde 200)\n",
    "                        if response.status_code == 200:\n",
    "                                return response.json()\n",
    "                        else:\n",
    "                                print(f' Request failed with status code : {response.status_code}')\n",
    "                                return None\n",
    "                except requests.exceptions.RequestException as e:\n",
    "                        print( f'Request failed with an exception : {e}')\n",
    "                        return None\n",
    "                \n",
    "                \n",
    " "
   ]
  },
  {
   "cell_type": "code",
   "execution_count": 28,
   "metadata": {},
   "outputs": [],
   "source": [
    "# Function to use the ApiClient class\n",
    "def get_api_response( api_client, endpoint,   params=None):\n",
    "        return api_client.make_requests( endpoint, params)\n",
    "\n"
   ]
  },
  {
   "cell_type": "code",
   "execution_count": 34,
   "metadata": {},
   "outputs": [
    {
     "name": "stdout",
     "output_type": "stream",
     "text": [
      "base_url = https://api.api-ninjas.com/v1/cars?model=camry\n",
      "[{'city_mpg': 18, 'class': 'midsize car', 'combination_mpg': 21, 'cylinders': 4, 'displacement': 2.2, 'drive': 'fwd', 'fuel_type': 'gas', 'highway_mpg': 26, 'make': 'toyota', 'model': 'camry', 'transmission': 'a', 'year': 1993}, {'city_mpg': 19, 'class': 'midsize car', 'combination_mpg': 22, 'cylinders': 4, 'displacement': 2.2, 'drive': 'fwd', 'fuel_type': 'gas', 'highway_mpg': 27, 'make': 'toyota', 'model': 'camry', 'transmission': 'm', 'year': 1993}, {'city_mpg': 16, 'class': 'midsize car', 'combination_mpg': 19, 'cylinders': 6, 'displacement': 3.0, 'drive': 'fwd', 'fuel_type': 'gas', 'highway_mpg': 22, 'make': 'toyota', 'model': 'camry', 'transmission': 'a', 'year': 1993}, {'city_mpg': 16, 'class': 'midsize car', 'combination_mpg': 18, 'cylinders': 6, 'displacement': 3.0, 'drive': 'fwd', 'fuel_type': 'gas', 'highway_mpg': 22, 'make': 'toyota', 'model': 'camry', 'transmission': 'm', 'year': 1993}, {'city_mpg': 18, 'class': 'midsize-large station wagon', 'combination_mpg': 21, 'cylinders': 4, 'displacement': 2.2, 'drive': 'fwd', 'fuel_type': 'gas', 'highway_mpg': 26, 'make': 'toyota', 'model': 'camry wagon', 'transmission': 'a', 'year': 1993}]\n"
     ]
    }
   ],
   "source": [
    "model = 'camry'\n",
    "api_url = 'https://api.api-ninjas.com/v1/cars?model={}'.format(model)\n",
    "\n",
    "base_url = r'https://api.api-ninjas.com/v1/cars?model='\n",
    "endpoint = model\n",
    "api_client = ApiClient(base_url)\n",
    "\n",
    "# # model=''\n",
    "# base_url = r'https://api.api-ninjas.com/v1/cars?limit=2&model='\n",
    "response_data = get_api_response(api_client, endpoint)\n",
    "\n",
    "print( response_data )\n"
   ]
  },
  {
   "cell_type": "code",
   "execution_count": 30,
   "metadata": {},
   "outputs": [
    {
     "name": "stdout",
     "output_type": "stream",
     "text": [
      "[]\n"
     ]
    }
   ],
   "source": [
    "model=''\n",
    "company = 'Honda'\n",
    "base_url_bikes = f'https://api.api-ninjas.com/v1/motorcycles?make={company}&model='\n",
    "\n",
    "api_client_bikes = ApiClient(base_url_bikes)\n",
    "endpoint_bike = ''\n",
    "response_data_bikes = get_api_response(api_client_bikes, endpoint, key_api)\n",
    "# print( response_data )\n",
    "print( response_data_bikes )"
   ]
  },
  {
   "cell_type": "code",
   "execution_count": 23,
   "metadata": {},
   "outputs": [],
   "source": [
    "# cars = pd.DataFrame(response_data)\n",
    "bikes = pd.DataFrame(response_data_bikes)\n"
   ]
  },
  {
   "cell_type": "code",
   "execution_count": null,
   "metadata": {},
   "outputs": [],
   "source": []
  }
 ],
 "metadata": {
  "kernelspec": {
   "display_name": "venv2DataEngenierPandas",
   "language": "python",
   "name": "python3"
  },
  "language_info": {
   "codemirror_mode": {
    "name": "ipython",
    "version": 3
   },
   "file_extension": ".py",
   "mimetype": "text/x-python",
   "name": "python",
   "nbconvert_exporter": "python",
   "pygments_lexer": "ipython3",
   "version": "3.11.5"
  }
 },
 "nbformat": 4,
 "nbformat_minor": 2
}
