{
 "cells": [
  {
   "cell_type": "code",
   "execution_count": 1,
   "metadata": {},
   "outputs": [],
   "source": [
    "import pandas as pd\n",
    "import numpy as np\n",
    "import requests\n",
    "import os\n",
    "import sys \n",
    "import json\n",
    "import zipfile\n",
    "import xlsxwriter\n",
    "import psycopg2\n",
    "from sqlalchemy import create_engine\n",
    "import openpyxl\n",
    "\n"
   ]
  },
  {
   "cell_type": "code",
   "execution_count": 5,
   "metadata": {},
   "outputs": [
    {
     "name": "stdout",
     "output_type": "stream",
     "text": [
      "['MySheet', 'Sheet2', 'Sheet3']\n"
     ]
    }
   ],
   "source": [
    "file_name = 'UsedCars/output.xlsx'\n",
    "excel_file = pd.ExcelFile(file_name)\n",
    "\n",
    "excel_sheets = excel_file.sheet_names \n",
    "print( excel_sheets)\n",
    "pd_dict = {}\n",
    "for index, sheet in enumerate(excel_sheets):\n",
    "    pd_dict[sheet] = pd.read_excel(file_name, sheet_name=excel_sheets[index])\n",
    "    \n",
    "# df_excel = pd.read_excel(file_name, sheet_name=excel_sheets[0])\n",
    "# df_excel1 = pd.read_excel(file_name, sheet_name=excel_sheets[1])\n",
    "# df_excel2 = pd.read_excel(file_name, sheet_name=excel_sheets[2])\n",
    "\n",
    "# print( df_excel.head(10))"
   ]
  },
  {
   "cell_type": "code",
   "execution_count": 6,
   "metadata": {},
   "outputs": [
    {
     "name": "stdout",
     "output_type": "stream",
     "text": [
      "     index          dateCrawled  \\\n",
      "0     8156  2016-04-02 21:42:53   \n",
      "1     8157  2016-03-07 20:52:10   \n",
      "2     8158  2016-04-04 16:50:23   \n",
      "3     8159  2016-03-24 19:50:49   \n",
      "4     8160  2016-03-14 06:03:07   \n",
      "..     ...                  ...   \n",
      "614   8995  2016-03-16 15:46:36   \n",
      "615   8996  2016-04-04 13:55:22   \n",
      "616   8997  2016-03-16 20:55:12   \n",
      "617   8998  2016-03-14 21:39:01   \n",
      "618   8999  2016-03-08 19:46:43   \n",
      "\n",
      "                                                  name  seller offerType  \\\n",
      "0                                  Audi_A4_Avant_1.8_T  privat   Angebot   \n",
      "1                                   Peugeot_1007_Typ_K  privat   Angebot   \n",
      "2    Mercedes_Benz_Viano_2.2_CDI_DPF_kompakt_4Matic...  privat   Angebot   \n",
      "3                                       Opel_Corsa_Eco  privat   Angebot   \n",
      "4                             Ford_Galaxy__Polizeiauto  privat   Angebot   \n",
      "..                                                 ...     ...       ...   \n",
      "614  Passat_Variant_2.0_TDI_BlueMotion_Technology_H...  privat   Angebot   \n",
      "615  Mercedes_Benz_E_350_CDI_Avantgarde_HU+AU_NEU_1...  privat   Angebot   \n",
      "616                                       Golf_4_Bj.98  privat   Angebot   \n",
      "617                      Suche_Pkw__.opel.Mazda_.ford.  privat   Angebot   \n",
      "618                           Ford_Focus_1.6_16V_Style  privat   Angebot   \n",
      "\n",
      "     price   abtest vehicleType  yearOfRegistration    gearbox  powerPS  \\\n",
      "0     2299     test       kombi                2004  automatik      163   \n",
      "1     3100     test  kleinwagen                2007    manuell       73   \n",
      "2    29950     test         bus                2012  automatik      163   \n",
      "3      699     test  kleinwagen                1995    manuell       45   \n",
      "4     1500     test         bus                2000    manuell      145   \n",
      "..     ...      ...         ...                 ...        ...      ...   \n",
      "614  10000     test       kombi                2013    manuell      140   \n",
      "615  25750  control      cabrio                2010  automatik      231   \n",
      "616      0  control         NaN                2017    manuell       75   \n",
      "617      0     test   limousine                2000        NaN        0   \n",
      "618   5250     test   limousine                2008    manuell      101   \n",
      "\n",
      "        model  kilometer  monthOfRegistration fuelType          brand  \n",
      "0          a4     150000                    5   benzin           audi  \n",
      "1      andere      70000                    5   benzin        peugeot  \n",
      "2       viano      60000                    3   diesel  mercedes_benz  \n",
      "3       corsa     150000                   11   benzin           opel  \n",
      "4      galaxy     150000                    2   benzin           ford  \n",
      "..        ...        ...                  ...      ...            ...  \n",
      "614    passat      40000                    6   diesel     volkswagen  \n",
      "615  e_klasse     150000                   12   diesel  mercedes_benz  \n",
      "616       NaN     150000                    4      NaN     volkswagen  \n",
      "617       NaN     150000                    1      NaN           ford  \n",
      "618     focus     125000                    9   benzin           ford  \n",
      "\n",
      "[619 rows x 16 columns]\n"
     ]
    }
   ],
   "source": [
    "print( pd_dict[\"Sheet3\"])"
   ]
  },
  {
   "cell_type": "code",
   "execution_count": 14,
   "metadata": {},
   "outputs": [],
   "source": [
    "def create_dataframe(file_name):\n",
    "    with open(file_name, 'r') as f:\n",
    "        data = json.load( f )\n",
    "    df = pd.DataFrame(data)\n",
    "    return df "
   ]
  },
  {
   "cell_type": "code",
   "execution_count": 15,
   "metadata": {},
   "outputs": [],
   "source": [
    "data2 = create_dataframe('data2.json')"
   ]
  }
 ],
 "metadata": {
  "kernelspec": {
   "display_name": "venv2DataEngenierPandas",
   "language": "python",
   "name": "python3"
  },
  "language_info": {
   "codemirror_mode": {
    "name": "ipython",
    "version": 3
   },
   "file_extension": ".py",
   "mimetype": "text/x-python",
   "name": "python",
   "nbconvert_exporter": "python",
   "pygments_lexer": "ipython3",
   "version": "3.11.5"
  }
 },
 "nbformat": 4,
 "nbformat_minor": 2
}
