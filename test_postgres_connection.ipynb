{
 "cells": [
  {
   "cell_type": "code",
   "execution_count": 1,
   "metadata": {},
   "outputs": [],
   "source": [
    "import pandas as pd\n",
    "import numpy as np\n",
    "import requests\n",
    "import os\n",
    "import sys \n",
    "import json\n",
    "import zipfile\n",
    "import xlsxwriter\n",
    "import psycopg2\n",
    "from sqlalchemy import create_engine\n",
    "import openpyxl"
   ]
  },
  {
   "cell_type": "code",
   "execution_count": 2,
   "metadata": {},
   "outputs": [],
   "source": [
    "class PostgresCredentials:\n",
    "    postgres_credentials = { \n",
    "        'postgres_username' : 'postgres',\n",
    "        'postgres_password' : 'radek',\n",
    "        'postgres_host' : 'localhost',\n",
    "        'postgres_port' : '5432',\n",
    "    }"
   ]
  },
  {
   "cell_type": "code",
   "execution_count": 3,
   "metadata": {},
   "outputs": [],
   "source": [
    "class PostgresConnection(PostgresCredentials):\n",
    "    def __init__(self):\n",
    "        super().__init__()\n",
    "        self.username = self.postgres_credentials[\"postgres_username\"]\n",
    "        self.password = self.postgres_credentials[\"postgres_password\"]\n",
    "        self.host = self.postgres_credentials[\"postgres_host\"]\n",
    "        self.port = self.postgres_credentials[\"postgres_port\"]\n",
    "        \n",
    "    def get_connection(self):\n",
    "        conn = psycopg2.connect(\n",
    "            dbname='postgres',\n",
    "            user=self.username,\n",
    "            password=self.password,\n",
    "            host=self.host,\n",
    "            port=self.port\n",
    "        )\n",
    "        cur = conn.cursor()\n",
    "        return conn, cur \n",
    "    \n",
    "    def read_teable(self, cur, table_name):\n",
    "        try:\n",
    "            cur.execute(f'SELECT * FROM {table_name} LIMIT 15')\n",
    "            rows = cur.fetchall()\n",
    "            print(f\"First 5 rows in the {table_name} table:\")\n",
    "            for row in rows:\n",
    "                print( row )\n",
    "        except Exception as e:\n",
    "            print( \"Error eccured while selectiong data:\",e)\n",
    "        \n",
    "        "
   ]
  },
  {
   "cell_type": "code",
   "execution_count": 4,
   "metadata": {},
   "outputs": [],
   "source": [
    "postgres_conn = PostgresConnection()"
   ]
  },
  {
   "cell_type": "code",
   "execution_count": 5,
   "metadata": {},
   "outputs": [],
   "source": [
    "conn, cur = postgres_conn.get_connection()\n"
   ]
  },
  {
   "cell_type": "code",
   "execution_count": 6,
   "metadata": {},
   "outputs": [
    {
     "name": "stdout",
     "output_type": "stream",
     "text": [
      "First 5 rows in the wyniki table:\n",
      "('z31', 10, 'w1', 0)\n",
      "('z42', 6, 'w1', 0)\n",
      "('z46', 4, 'w1', 0)\n",
      "('z13', 2, 'w1', 0)\n",
      "('z23', 3, 'w1', 0)\n",
      "('z47', 1, 'w1', 0)\n",
      "('z31', 10, 'w2', 0)\n",
      "('z46', 2, 'w2', 0)\n",
      "('z13', 6, 'w2', 0)\n",
      "('z18', 1, 'w2', 0)\n",
      "('z14', 4, 'w2', 0)\n",
      "('z20', 3, 'w2', 0)\n",
      "('z31', 10, 'w3', 0)\n",
      "('z29', 6, 'w3', 0)\n",
      "('z8', 4, 'w3', 0)\n"
     ]
    }
   ],
   "source": [
    "postgres_conn.read_teable(cur, 'wyniki')"
   ]
  },
  {
   "cell_type": "code",
   "execution_count": 7,
   "metadata": {},
   "outputs": [
    {
     "name": "stdout",
     "output_type": "stream",
     "text": [
      "First 5 rows in the kierowcy table:\n",
      "('z1', 'Pizzonia', 'Antonio', 'Brazylia')\n",
      "('z2', 'Sutil', 'Adrian', 'Niemcy')\n",
      "('z3', 'Wurz', 'Alexander', 'Austria')\n",
      "('z4', 'Senna', 'Bruno', 'Brazylia')\n",
      "('z5', 'Albers', 'Christijan', 'Holandia')\n",
      "('z6', 'da Matta', 'Cristiano', 'Brazylia')\n",
      "('z7', 'Klien', 'Christian', 'Austria')\n",
      "('z8', 'Coulthard', 'David', 'Szkocja')\n",
      "('z9', 'Ricciardo', 'Daniel', 'Australia')\n",
      "('z10', 'Irvine', 'Eddie', 'Irlandia')\n",
      "('z11', 'Alonso', 'Fernando', 'Hiszpania')\n",
      "('z12', 'Massa', 'Felipe', 'Brazylia')\n",
      "('z13', 'Fisichella', 'Giancarlo', 'Wlochy')\n",
      "('z14', 'Frentzen', 'Heinz-Harald', 'Niemcy')\n",
      "('z15', 'Kovalainen', 'Heikki', 'Finlandia')\n"
     ]
    }
   ],
   "source": [
    "postgres_conn.read_teable(cur,'kierowcy')"
   ]
  },
  {
   "cell_type": "code",
   "execution_count": 8,
   "metadata": {},
   "outputs": [],
   "source": [
    "# close the cursor and connection when done\n",
    "cur.close()\n",
    "conn.close()\n"
   ]
  },
  {
   "cell_type": "code",
   "execution_count": 22,
   "metadata": {},
   "outputs": [],
   "source": [
    "def read_folder(folder ):\n",
    "    # folder = os.getcwd()\n",
    "    if not os.path.isfile(folder):\n",
    "        path = os.listdir( folder)\n",
    "        for el in path:\n",
    "            print( f' -- {el}')\n",
    "            temp = os.path.join( folder, el)\n",
    "            if os.path.isdir( temp ) and not el.startswith('.'):\n",
    "                print(f' el {el} , temp {temp}')\n",
    "                if n:= len(os.listdir( temp )) > 0:\n",
    "                    for el2 in os.listdir( temp ):\n",
    "                        read_folder( os.path.join( temp , el2))\n",
    "                \n",
    "            "
   ]
  },
  {
   "cell_type": "code",
   "execution_count": 12,
   "metadata": {},
   "outputs": [
    {
     "name": "stdout",
     "output_type": "stream",
     "text": [
      "MalaysiaCovid /home/r/git_projekty/dataProjects/MalaysiaCovid\n",
      "    ['malaysia_covid', 'malaysia_covid_cases.zip', 'malaysia.ipynb']\n",
      "Detroit911 /home/r/git_projekty/dataProjects/Detroit911\n",
      "    ['detroit_911_calls', 'detroit911.ipynb', 'detroit_911_calls.zip']\n",
      "UsedCars /home/r/git_projekty/dataProjects/UsedCars\n",
      "    ['output.xlsx', 'used_cars_files', 'used_cars', 'requirements.txt', 'autos.xlsx', 'autos.ipynb', 'data2.json', 'used_cars.zip']\n",
      "restapi1 /home/r/git_projekty/dataProjects/restapi1\n",
      "    ['a.py', 'restapi1.ipynb']\n",
      "NOTES /home/r/git_projekty/dataProjects/NOTES\n",
      "    ['key.txt']\n",
      "rekrutacjazuza /home/r/git_projekty/dataProjects/rekrutacjazuza\n",
      "    ['demo']\n"
     ]
    }
   ],
   "source": [
    "read_folder( os.getcwd() )\n"
   ]
  },
  {
   "cell_type": "code",
   "execution_count": 28,
   "metadata": {},
   "outputs": [],
   "source": [
    "malaysisa_epidemic = r'/home/r/git_projekty/dataProjects/MalaysiaCovid/malaysia_covid/epidemic'\n",
    "malaysisa_vaccination = r'/home/r/git_projekty/dataProjects/MalaysiaCovid/malaysia_covid/vaccination'"
   ]
  },
  {
   "cell_type": "code",
   "execution_count": 58,
   "metadata": {},
   "outputs": [],
   "source": [
    "dict1 = {}\n",
    "dict2 = {}\n",
    "def create_dict( folder ):\n",
    "    folders = [  el for el in os.listdir( folder ) if  os.path.isfile( os.path.join(folder, el ) ) and el.endswith('.csv') ]\n",
    "    print( folders )\n",
    "    for el in folders:\n",
    "        temp_path = os.path.join( folder, el )\n",
    "        print( el ,el.split('.csv')[0], temp_path)\n",
    "        temp_df = pd.read_csv( temp_path, sep=',')\n",
    "        dict1[el.split('.csv')[0]] =  temp_df\n",
    "    "
   ]
  },
  {
   "cell_type": "code",
   "execution_count": 40,
   "metadata": {},
   "outputs": [],
   "source": [
    "file =  r'/home/r/git_projekty/dataProjects/MalaysiaCovid/malaysia_covid/epidemic/cases_age.csv'"
   ]
  },
  {
   "cell_type": "code",
   "execution_count": 57,
   "metadata": {},
   "outputs": [],
   "source": [
    "df = pd.read_csv(file, sep=',')"
   ]
  },
  {
   "cell_type": "code",
   "execution_count": 59,
   "metadata": {},
   "outputs": [
    {
     "name": "stdout",
     "output_type": "stream",
     "text": [
      "['cases_age.csv', 'hospital.csv', 'tests_malaysia.csv', 'deaths_age.csv', 'icu.csv', 'deaths_malaysia.csv', 'cases_state.csv', 'deaths_state.csv', 'cases_malaysia.csv', 'pkrc.csv', 'tests_state.csv', 'clusters.csv']\n",
      "cases_age.csv cases_age /home/r/git_projekty/dataProjects/MalaysiaCovid/malaysia_covid/epidemic/cases_age.csv\n",
      "hospital.csv hospital /home/r/git_projekty/dataProjects/MalaysiaCovid/malaysia_covid/epidemic/hospital.csv\n",
      "tests_malaysia.csv tests_malaysia /home/r/git_projekty/dataProjects/MalaysiaCovid/malaysia_covid/epidemic/tests_malaysia.csv\n",
      "deaths_age.csv deaths_age /home/r/git_projekty/dataProjects/MalaysiaCovid/malaysia_covid/epidemic/deaths_age.csv\n",
      "icu.csv icu /home/r/git_projekty/dataProjects/MalaysiaCovid/malaysia_covid/epidemic/icu.csv\n",
      "deaths_malaysia.csv deaths_malaysia /home/r/git_projekty/dataProjects/MalaysiaCovid/malaysia_covid/epidemic/deaths_malaysia.csv\n",
      "cases_state.csv cases_state /home/r/git_projekty/dataProjects/MalaysiaCovid/malaysia_covid/epidemic/cases_state.csv\n",
      "deaths_state.csv deaths_state /home/r/git_projekty/dataProjects/MalaysiaCovid/malaysia_covid/epidemic/deaths_state.csv\n",
      "cases_malaysia.csv cases_malaysia /home/r/git_projekty/dataProjects/MalaysiaCovid/malaysia_covid/epidemic/cases_malaysia.csv\n",
      "pkrc.csv pkrc /home/r/git_projekty/dataProjects/MalaysiaCovid/malaysia_covid/epidemic/pkrc.csv\n",
      "tests_state.csv tests_state /home/r/git_projekty/dataProjects/MalaysiaCovid/malaysia_covid/epidemic/tests_state.csv\n",
      "clusters.csv clusters /home/r/git_projekty/dataProjects/MalaysiaCovid/malaysia_covid/epidemic/clusters.csv\n"
     ]
    }
   ],
   "source": [
    "create_dict( malaysisa_epidemic)"
   ]
  },
  {
   "cell_type": "code",
   "execution_count": 60,
   "metadata": {},
   "outputs": [],
   "source": [
    "a = dict1['cases_age']"
   ]
  },
  {
   "cell_type": "code",
   "execution_count": 23,
   "metadata": {},
   "outputs": [
    {
     "name": "stdout",
     "output_type": "stream",
     "text": [
      " -- malaysia_covid\n",
      " el malaysia_covid , temp /home/r/git_projekty/dataProjects/MalaysiaCovid/malaysia_covid\n",
      " -- vax_demog_age.csv\n",
      " -- vax_booster_combos.csv\n",
      " -- README.md\n",
      " -- aefi_serious.csv\n",
      " -- vax_demog_highrisk.csv\n",
      " -- aefi.csv\n",
      " -- vax_school.csv\n",
      " -- vax_state.csv\n",
      " -- vax_demog_nationality.csv\n",
      " -- vax_outcomes_capita.csv\n",
      " -- vax_snapshot.csv\n",
      " -- vax_demog_ethnicity.csv\n",
      " -- vax_district.csv\n",
      " -- vax_malaysia.csv\n",
      " -- vax_demog_age_children.csv\n",
      " -- vax_demog_sex.csv\n",
      " -- cases_age.csv\n",
      " -- hospital.csv\n",
      " -- tests_malaysia.csv\n",
      " -- linelist\n",
      " el linelist , temp /home/r/git_projekty/dataProjects/MalaysiaCovid/malaysia_covid/epidemic/linelist\n",
      " -- deaths_age.csv\n",
      " -- README.md\n",
      " -- icu.csv\n",
      " -- deaths_malaysia.csv\n",
      " -- cases_state.csv\n",
      " -- deaths_state.csv\n",
      " -- cases_malaysia.csv\n",
      " -- pkrc.csv\n",
      " -- tests_state.csv\n",
      " -- clusters.csv\n",
      " -- malaysia_covid_cases.zip\n",
      " -- malaysia.ipynb\n"
     ]
    }
   ],
   "source": [
    "read_folder( malaysisa )"
   ]
  }
 ],
 "metadata": {
  "kernelspec": {
   "display_name": "venv2DataEngenierPandas",
   "language": "python",
   "name": "python3"
  },
  "language_info": {
   "codemirror_mode": {
    "name": "ipython",
    "version": 3
   },
   "file_extension": ".py",
   "mimetype": "text/x-python",
   "name": "python",
   "nbconvert_exporter": "python",
   "pygments_lexer": "ipython3",
   "version": "3.11.5"
  }
 },
 "nbformat": 4,
 "nbformat_minor": 2
}
