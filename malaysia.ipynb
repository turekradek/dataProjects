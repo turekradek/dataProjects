{
 "cells": [
  {
   "cell_type": "code",
   "execution_count": 1,
   "metadata": {},
   "outputs": [],
   "source": [
    "import pandas as pd\n",
    "import numpy as np\n",
    "import requests\n",
    "import os\n",
    "import zipfile\n",
    "import xlsxwriter\n",
    "from sqlalchemy import create_engine"
   ]
  },
  {
   "cell_type": "code",
   "execution_count": 2,
   "metadata": {},
   "outputs": [],
   "source": [
    "malaysia_zip = r'malaysia_covid_cases.zip'\n",
    "malaysia_extracted = r'malaysia_covid'"
   ]
  },
  {
   "cell_type": "code",
   "execution_count": 3,
   "metadata": {},
   "outputs": [
    {
     "name": "stdout",
     "output_type": "stream",
     "text": [
      "['BZIP2_VERSION', 'BadZipFile', 'BadZipfile', 'CompleteDirs', 'DEFAULT_VERSION', 'FastLookup', 'LZMACompressor', 'LZMADecompressor', 'LZMA_VERSION', 'LargeZipFile', 'MAX_EXTRACT_VERSION', 'Path', 'PyZipFile', 'ZIP64_LIMIT', 'ZIP64_VERSION', 'ZIP_BZIP2', 'ZIP_DEFLATED', 'ZIP_FILECOUNT_LIMIT', 'ZIP_LZMA', 'ZIP_MAX_COMMENT', 'ZIP_STORED', 'ZipExtFile', 'ZipFile', 'ZipInfo', '_CD64_CREATE_VERSION', '_CD64_DIRECTORY_RECSIZE', '_CD64_DIRECTORY_SIZE', '_CD64_DISK_NUMBER', '_CD64_DISK_NUMBER_START', '_CD64_EXTRACT_VERSION', '_CD64_NUMBER_ENTRIES_THIS_DISK', '_CD64_NUMBER_ENTRIES_TOTAL', '_CD64_OFFSET_START_CENTDIR', '_CD64_SIGNATURE', '_CD_COMMENT_LENGTH', '_CD_COMPRESSED_SIZE', '_CD_COMPRESS_TYPE', '_CD_CRC', '_CD_CREATE_SYSTEM', '_CD_CREATE_VERSION', '_CD_DATE', '_CD_DISK_NUMBER_START', '_CD_EXTERNAL_FILE_ATTRIBUTES', '_CD_EXTRACT_SYSTEM', '_CD_EXTRACT_VERSION', '_CD_EXTRA_FIELD_LENGTH', '_CD_FILENAME_LENGTH', '_CD_FLAG_BITS', '_CD_INTERNAL_FILE_ATTRIBUTES', '_CD_LOCAL_HEADER_OFFSET', '_CD_SIGNATURE', '_CD_TIME', '_CD_UNCOMPRESSED_SIZE', '_DD_SIGNATURE', '_ECD_COMMENT', '_ECD_COMMENT_SIZE', '_ECD_DISK_NUMBER', '_ECD_DISK_START', '_ECD_ENTRIES_THIS_DISK', '_ECD_ENTRIES_TOTAL', '_ECD_LOCATION', '_ECD_OFFSET', '_ECD_SIGNATURE', '_ECD_SIZE', '_EXTRA_FIELD_STRUCT', '_EndRecData', '_EndRecData64', '_FH_COMPRESSED_SIZE', '_FH_COMPRESSION_METHOD', '_FH_CRC', '_FH_EXTRACT_SYSTEM', '_FH_EXTRACT_VERSION', '_FH_EXTRA_FIELD_LENGTH', '_FH_FILENAME_LENGTH', '_FH_GENERAL_PURPOSE_FLAG_BITS', '_FH_LAST_MOD_DATE', '_FH_LAST_MOD_TIME', '_FH_SIGNATURE', '_FH_UNCOMPRESSED_SIZE', '_MASK_COMPRESSED_PATCH', '_MASK_COMPRESS_OPTION_1', '_MASK_ENCRYPTED', '_MASK_STRONG_ENCRYPTION', '_MASK_USE_DATA_DESCRIPTOR', '_MASK_UTF_FILENAME', '_SharedFile', '_Tellable', '_ZipDecrypter', '_ZipWriteFile', '__all__', '__builtins__', '__cached__', '__doc__', '__file__', '__loader__', '__name__', '__package__', '__spec__', '_ancestry', '_check_compression', '_check_zipfile', '_crctable', '_dedupe', '_difference', '_extract_text_encoding', '_gen_crc', '_get_compressor', '_get_decompressor', '_parents', '_strip_extra', 'binascii', 'bz2', 'compressor_names', 'contextlib', 'crc32', 'error', 'importlib', 'io', 'is_zipfile', 'itertools', 'lzma', 'main', 'os', 'pathlib', 'posixpath', 'shutil', 'sizeCentralDir', 'sizeEndCentDir', 'sizeEndCentDir64', 'sizeEndCentDir64Locator', 'sizeFileHeader', 'stat', 'stringCentralDir', 'stringEndArchive', 'stringEndArchive64', 'stringEndArchive64Locator', 'stringFileHeader', 'struct', 'structCentralDir', 'structEndArchive', 'structEndArchive64', 'structEndArchive64Locator', 'structFileHeader', 'sys', 'threading', 'time', 'zlib']\n",
      "<ZipInfo filename='malaysia_covid_cases.zip' file_size=0>\n"
     ]
    }
   ],
   "source": [
    "malaysia_zip = r'malaysia_covid_cases.zip'\n",
    "malaysia_extracted = r'malaysia_covid'\n",
    "print( dir(zipfile) )\n",
    "print( zipfile.ZipInfo(malaysia_zip)) \n",
    "# with zipfile.ZipFile(malaysia_zip, 'r') as malaysia:\n",
    "#         malaysia.extractall( malaysia_extracted)"
   ]
  },
  {
   "cell_type": "code",
   "execution_count": 15,
   "metadata": {},
   "outputs": [],
   "source": [
    "def show_folder( folder ):\n",
    "    lista = os.listdir(folder)\n",
    "    for index, el in enumerate(lista):\n",
    "        new_path = os.path.join(folder,el)\n",
    "        if os.path.isdir( new_path)  :\n",
    "            print( f'{ index } {el} ')\n",
    "            show_folder(new_path )\n",
    "    print( lista)"
   ]
  },
  {
   "cell_type": "code",
   "execution_count": 16,
   "metadata": {},
   "outputs": [
    {
     "name": "stdout",
     "output_type": "stream",
     "text": [
      "0 malaysia_covid \n",
      "0 vaccination \n",
      "['vax_demog_age.csv', 'vax_booster_combos.csv', 'README.md', 'aefi_serious.csv', 'vax_demog_highrisk.csv', 'aefi.csv', 'vax_school.csv', 'vax_state.csv', 'vax_demog_nationality.csv', 'vax_outcomes_capita.csv', 'vax_snapshot.csv', 'vax_demog_ethnicity.csv', 'vax_district.csv', 'vax_malaysia.csv', 'vax_demog_age_children.csv', 'vax_demog_sex.csv']\n",
      "1 epidemic \n",
      "3 linelist \n",
      "['linelist_deaths.csv', 'README.md', 'param_geo.csv']\n",
      "['cases_age.csv', 'hospital.csv', 'tests_malaysia.csv', 'linelist', 'deaths_age.csv', 'README.md', 'icu.csv', 'deaths_malaysia.csv', 'cases_state.csv', 'deaths_state.csv', 'cases_malaysia.csv', 'pkrc.csv', 'tests_state.csv', 'clusters.csv']\n",
      "['vaccination', 'epidemic']\n",
      "['malaysia_covid', 'malaysia_covid_cases.zip', 'malaysia.ipynb']\n"
     ]
    }
   ],
   "source": [
    "show_folder( os.getcwd())"
   ]
  },
  {
   "cell_type": "code",
   "execution_count": null,
   "metadata": {},
   "outputs": [],
   "source": []
  }
 ],
 "metadata": {
  "kernelspec": {
   "display_name": "venv2DataEngenierPandas",
   "language": "python",
   "name": "python3"
  },
  "language_info": {
   "codemirror_mode": {
    "name": "ipython",
    "version": 3
   },
   "file_extension": ".py",
   "mimetype": "text/x-python",
   "name": "python",
   "nbconvert_exporter": "python",
   "pygments_lexer": "ipython3",
   "version": "3.11.5"
  }
 },
 "nbformat": 4,
 "nbformat_minor": 2
}
