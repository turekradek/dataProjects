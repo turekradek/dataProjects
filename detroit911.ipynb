{
 "cells": [
  {
   "cell_type": "code",
   "execution_count": 1,
   "metadata": {},
   "outputs": [],
   "source": [
    "import pandas as pd\n",
    "import numpy as np\n",
    "import requests\n",
    "import os\n",
    "import zipfile\n",
    "import sys \n",
    "import json\n",
    "import xlsxwriter\n",
    "import psycopg2\n",
    "from sqlalchemy import create_engine\n",
    "import openpyxl"
   ]
  },
  {
   "cell_type": "code",
   "execution_count": 3,
   "metadata": {},
   "outputs": [
    {
     "name": "stdout",
     "output_type": "stream",
     "text": [
      "['BZIP2_VERSION', 'BadZipFile', 'BadZipfile', 'CompleteDirs', 'DEFAULT_VERSION', 'LZMACompressor', 'LZMADecompressor', 'LZMA_VERSION', 'LargeZipFile', 'MAX_EXTRACT_VERSION', 'Path', 'PyZipFile', 'ZIP64_LIMIT', 'ZIP64_VERSION', 'ZIP_BZIP2', 'ZIP_DEFLATED', 'ZIP_FILECOUNT_LIMIT', 'ZIP_LZMA', 'ZIP_MAX_COMMENT', 'ZIP_STORED', 'ZipExtFile', 'ZipFile', 'ZipInfo', '_CD64_CREATE_VERSION', '_CD64_DIRECTORY_RECSIZE', '_CD64_DIRECTORY_SIZE', '_CD64_DISK_NUMBER', '_CD64_DISK_NUMBER_START', '_CD64_EXTRACT_VERSION', '_CD64_NUMBER_ENTRIES_THIS_DISK', '_CD64_NUMBER_ENTRIES_TOTAL', '_CD64_OFFSET_START_CENTDIR', '_CD64_SIGNATURE', '_CD_COMMENT_LENGTH', '_CD_COMPRESSED_SIZE', '_CD_COMPRESS_TYPE', '_CD_CRC', '_CD_CREATE_SYSTEM', '_CD_CREATE_VERSION', '_CD_DATE', '_CD_DISK_NUMBER_START', '_CD_EXTERNAL_FILE_ATTRIBUTES', '_CD_EXTRACT_SYSTEM', '_CD_EXTRACT_VERSION', '_CD_EXTRA_FIELD_LENGTH', '_CD_FILENAME_LENGTH', '_CD_FLAG_BITS', '_CD_INTERNAL_FILE_ATTRIBUTES', '_CD_LOCAL_HEADER_OFFSET', '_CD_SIGNATURE', '_CD_TIME', '_CD_UNCOMPRESSED_SIZE', '_DD_SIGNATURE', '_ECD_COMMENT', '_ECD_COMMENT_SIZE', '_ECD_DISK_NUMBER', '_ECD_DISK_START', '_ECD_ENTRIES_THIS_DISK', '_ECD_ENTRIES_TOTAL', '_ECD_LOCATION', '_ECD_OFFSET', '_ECD_SIGNATURE', '_ECD_SIZE', '_EXTRA_FIELD_STRUCT', '_EndRecData', '_EndRecData64', '_FH_COMPRESSED_SIZE', '_FH_COMPRESSION_METHOD', '_FH_CRC', '_FH_EXTRACT_SYSTEM', '_FH_EXTRACT_VERSION', '_FH_EXTRA_FIELD_LENGTH', '_FH_FILENAME_LENGTH', '_FH_GENERAL_PURPOSE_FLAG_BITS', '_FH_LAST_MOD_DATE', '_FH_LAST_MOD_TIME', '_FH_SIGNATURE', '_FH_UNCOMPRESSED_SIZE', '_MASK_COMPRESSED_PATCH', '_MASK_COMPRESS_OPTION_1', '_MASK_ENCRYPTED', '_MASK_STRONG_ENCRYPTION', '_MASK_USE_DATA_DESCRIPTOR', '_MASK_UTF_FILENAME', '_SharedFile', '_Tellable', '_ZipDecrypter', '_ZipWriteFile', '__all__', '__builtins__', '__cached__', '__doc__', '__file__', '__loader__', '__main__', '__name__', '__package__', '__path__', '__spec__', '_check_compression', '_check_zipfile', '_crctable', '_gen_crc', '_get_compressor', '_get_decompressor', '_path', '_sanitize_filename', '_strip_extra', 'binascii', 'bz2', 'compressor_names', 'crc32', 'error', 'importlib', 'io', 'is_zipfile', 'lzma', 'main', 'os', 'shutil', 'sizeCentralDir', 'sizeEndCentDir', 'sizeEndCentDir64', 'sizeEndCentDir64Locator', 'sizeFileHeader', 'stat', 'stringCentralDir', 'stringEndArchive', 'stringEndArchive64', 'stringEndArchive64Locator', 'stringFileHeader', 'struct', 'structCentralDir', 'structEndArchive', 'structEndArchive64', 'structEndArchive64Locator', 'structFileHeader', 'sys', 'threading', 'time', 'zlib']\n"
     ]
    }
   ],
   "source": [
    "# detroit_zip = 'detroit_911_calls.zip'\n",
    "# extracted_dir = 'detroit_911_calls'\n",
    "# print( dir(zipfile))\n",
    "# with zipfile.ZipFile(detroit_zip, 'r') as zipdir:\n",
    "#         zipdir.extractall(extracted_dir)"
   ]
  },
  {
   "cell_type": "code",
   "execution_count": 2,
   "metadata": {},
   "outputs": [],
   "source": [
    "detroit_calls = r'detroit_911_calls/dpd_911_calls_for_service.csv'"
   ]
  },
  {
   "cell_type": "code",
   "execution_count": 3,
   "metadata": {},
   "outputs": [],
   "source": [
    "calls1 = pd.read_csv(detroit_calls, delimiter=\",\")\n"
   ]
  },
  {
   "cell_type": "code",
   "execution_count": 5,
   "metadata": {},
   "outputs": [
    {
     "name": "stdout",
     "output_type": "stream",
     "text": [
      "Index(['callno', 'agency', 'priority', 'incident_address', 'callcode',\n",
      "       'calldescription', 'category', 'calldate', 'calltime', 'disposition',\n",
      "       'precinctsca', 'respondingunit', 'officerinitiated', 'intaketime',\n",
      "       'dispatchtime', 'traveltime', 'totresponsetime', 'timeonscene',\n",
      "       'totaltime', 'location'],\n",
      "      dtype='object')\n",
      "<class 'pandas.core.frame.DataFrame'>\n",
      "RangeIndex: 466260 entries, 0 to 466259\n",
      "Data columns (total 20 columns):\n",
      " #   Column            Non-Null Count   Dtype  \n",
      "---  ------            --------------   -----  \n",
      " 0   callno            466260 non-null  object \n",
      " 1   agency            466260 non-null  object \n",
      " 2   priority          466260 non-null  int64  \n",
      " 3   incident_address  463368 non-null  object \n",
      " 4   callcode          466260 non-null  object \n",
      " 5   calldescription   466260 non-null  object \n",
      " 6   category          466260 non-null  object \n",
      " 7   calldate          466260 non-null  object \n",
      " 8   calltime          466260 non-null  object \n",
      " 9   disposition       265695 non-null  object \n",
      " 10  precinctsca       390750 non-null  float64\n",
      " 11  respondingunit    227425 non-null  object \n",
      " 12  officerinitiated  466260 non-null  bool   \n",
      " 13  intaketime        466260 non-null  float64\n",
      " 14  dispatchtime      466260 non-null  float64\n",
      " 15  traveltime        466260 non-null  float64\n",
      " 16  totresponsetime   466260 non-null  float64\n",
      " 17  timeonscene       466260 non-null  float64\n",
      " 18  totaltime         466260 non-null  float64\n",
      " 19  location          466260 non-null  object \n",
      "dtypes: bool(1), float64(7), int64(1), object(11)\n",
      "memory usage: 68.0+ MB\n",
      "None\n"
     ]
    }
   ],
   "source": [
    "calls1_columns = calls1.columns\n",
    "print( calls1_columns )\n",
    "print( calls1.info() )"
   ]
  },
  {
   "cell_type": "code",
   "execution_count": 9,
   "metadata": {},
   "outputs": [
    {
     "name": "stdout",
     "output_type": "stream",
     "text": [
      " callno = 466101 \n",
      " agency = 3 \n",
      " priority = 23 \n",
      " incident_address = 56304 \n",
      " callcode = 293 \n",
      " calldescription = 327 \n",
      " category = 35 \n",
      " calldate = 180 \n",
      " calltime = 84917 \n",
      " disposition = 48 \n",
      " precinctsca = 133 \n",
      " respondingunit = 1750 \n",
      " officerinitiated = 2 \n",
      " intaketime = 289 \n",
      " dispatchtime = 4803 \n",
      " traveltime = 1443 \n",
      " totresponsetime = 5047 \n",
      " timeonscene = 4208 \n",
      " totaltime = 5973 \n",
      " location = 112344 \n"
     ]
    }
   ],
   "source": [
    "for column in calls1_columns:\n",
    "        print(f' {column} = {len(calls1[column].unique())} ')"
   ]
  },
  {
   "cell_type": "code",
   "execution_count": 19,
   "metadata": {},
   "outputs": [],
   "source": [
    "calls1[\"agency\"] = calls1[\"agency\"].astype(\"category\")\n",
    "calls1[\"callcode\"] = calls1[\"callcode\"].astype(\"category\")\n",
    "calls1[\"category\"] = calls1[\"category\"].astype(\"category\")\n",
    "calls1[\"disposition\"] = calls1[\"disposition\"].astype(\"category\")\n",
    "# calls1[\"officerinitiated\"] = calls1[\"officerinitiated\"].astype(\"category\")"
   ]
  },
  {
   "cell_type": "code",
   "execution_count": 20,
   "metadata": {},
   "outputs": [
    {
     "name": "stdout",
     "output_type": "stream",
     "text": [
      "<class 'pandas.core.frame.DataFrame'>\n",
      "RangeIndex: 466260 entries, 0 to 466259\n",
      "Data columns (total 20 columns):\n",
      " #   Column            Non-Null Count   Dtype   \n",
      "---  ------            --------------   -----   \n",
      " 0   callno            466260 non-null  object  \n",
      " 1   agency            466260 non-null  category\n",
      " 2   priority          466260 non-null  int64   \n",
      " 3   incident_address  463368 non-null  object  \n",
      " 4   callcode          466260 non-null  category\n",
      " 5   calldescription   466260 non-null  object  \n",
      " 6   category          466260 non-null  category\n",
      " 7   calldate          466260 non-null  object  \n",
      " 8   calltime          466260 non-null  object  \n",
      " 9   disposition       265695 non-null  category\n",
      " 10  precinctsca       390750 non-null  float64 \n",
      " 11  respondingunit    227425 non-null  object  \n",
      " 12  officerinitiated  466260 non-null  category\n",
      " 13  intaketime        466260 non-null  float64 \n",
      " 14  dispatchtime      466260 non-null  float64 \n",
      " 15  traveltime        466260 non-null  float64 \n",
      " 16  totresponsetime   466260 non-null  float64 \n",
      " 17  timeonscene       466260 non-null  float64 \n",
      " 18  totaltime         466260 non-null  float64 \n",
      " 19  location          466260 non-null  object  \n",
      "dtypes: category(5), float64(7), int64(1), object(7)\n",
      "memory usage: 56.0+ MB\n",
      "None\n"
     ]
    }
   ],
   "source": [
    "print( calls1.info() )"
   ]
  },
  {
   "cell_type": "code",
   "execution_count": 24,
   "metadata": {},
   "outputs": [
    {
     "name": "stdout",
     "output_type": "stream",
     "text": [
      "<class 'pandas.core.frame.DataFrame'>\n",
      "RangeIndex: 466260 entries, 0 to 466259\n",
      "Data columns (total 20 columns):\n",
      " #   Column            Non-Null Count   Dtype   \n",
      "---  ------            --------------   -----   \n",
      " 0   callno            466260 non-null  object  \n",
      " 1   agency            466260 non-null  category\n",
      " 2   priority          466260 non-null  int16   \n",
      " 3   incident_address  463368 non-null  object  \n",
      " 4   callcode          466260 non-null  category\n",
      " 5   calldescription   466260 non-null  object  \n",
      " 6   category          466260 non-null  category\n",
      " 7   calldate          466260 non-null  object  \n",
      " 8   calltime          466260 non-null  object  \n",
      " 9   disposition       265695 non-null  category\n",
      " 10  precinctsca       390750 non-null  float32 \n",
      " 11  respondingunit    227425 non-null  object  \n",
      " 12  officerinitiated  466260 non-null  category\n",
      " 13  intaketime        466260 non-null  float32 \n",
      " 14  dispatchtime      466260 non-null  float32 \n",
      " 15  traveltime        466260 non-null  float32 \n",
      " 16  totresponsetime   466260 non-null  float32 \n",
      " 17  timeonscene       466260 non-null  float32 \n",
      " 18  totaltime         466260 non-null  float32 \n",
      " 19  location          466260 non-null  object  \n",
      "dtypes: category(5), float32(7), int16(1), object(7)\n",
      "memory usage: 40.9+ MB\n",
      "None\n"
     ]
    }
   ],
   "source": [
    "calls1[\"priority\"] = calls1[\"priority\"].astype(\"int16\")\n",
    "calls1[\"precinctsca\"] = calls1[\"precinctsca\"].astype(\"float32\")\n",
    "calls1[\"intaketime\"] = calls1[\"intaketime\"].astype(\"float32\")\n",
    "calls1[\"dispatchtime\"] = calls1[\"dispatchtime\"].astype(\"float32\")\n",
    "calls1[\"traveltime\"] = calls1[\"traveltime\"].astype(\"float32\")\n",
    "calls1[\"totresponsetime\"] = calls1[\"totresponsetime\"].astype(\"float32\")\n",
    "calls1[\"timeonscene\"] = calls1[\"timeonscene\"].astype(\"float32\")\n",
    "calls1[\"totaltime\"] = calls1[\"totaltime\"].astype(\"float32\")\n",
    "print( calls1.info())"
   ]
  },
  {
   "cell_type": "code",
   "execution_count": 25,
   "metadata": {},
   "outputs": [
    {
     "name": "stdout",
     "output_type": "stream",
     "text": [
      "<class 'pandas.core.frame.DataFrame'>\n",
      "RangeIndex: 466260 entries, 0 to 466259\n",
      "Data columns (total 20 columns):\n",
      " #   Column            Non-Null Count   Dtype   \n",
      "---  ------            --------------   -----   \n",
      " 0   callno            466260 non-null  object  \n",
      " 1   agency            466260 non-null  category\n",
      " 2   priority          466260 non-null  int16   \n",
      " 3   incident_address  463368 non-null  object  \n",
      " 4   callcode          466260 non-null  category\n",
      " 5   calldescription   466260 non-null  object  \n",
      " 6   category          466260 non-null  category\n",
      " 7   calldate          466260 non-null  object  \n",
      " 8   calltime          466260 non-null  object  \n",
      " 9   disposition       265695 non-null  category\n",
      " 10  precinctsca       390750 non-null  float16 \n",
      " 11  respondingunit    227425 non-null  object  \n",
      " 12  officerinitiated  466260 non-null  category\n",
      " 13  intaketime        466260 non-null  float16 \n",
      " 14  dispatchtime      466260 non-null  float16 \n",
      " 15  traveltime        466260 non-null  float16 \n",
      " 16  totresponsetime   466260 non-null  float16 \n",
      " 17  timeonscene       466260 non-null  float16 \n",
      " 18  totaltime         466260 non-null  float16 \n",
      " 19  location          466260 non-null  object  \n",
      "dtypes: category(5), float16(7), int16(1), object(7)\n",
      "memory usage: 34.7+ MB\n",
      "None\n"
     ]
    }
   ],
   "source": [
    "calls1[\"precinctsca\"] = calls1[\"precinctsca\"].astype(\"float16\")\n",
    "calls1[\"intaketime\"] = calls1[\"intaketime\"].astype(\"float16\")\n",
    "calls1[\"dispatchtime\"] = calls1[\"dispatchtime\"].astype(\"float16\")\n",
    "calls1[\"traveltime\"] = calls1[\"traveltime\"].astype(\"float16\")\n",
    "calls1[\"totresponsetime\"] = calls1[\"totresponsetime\"].astype(\"float16\")\n",
    "calls1[\"timeonscene\"] = calls1[\"timeonscene\"].astype(\"float16\")\n",
    "calls1[\"totaltime\"] = calls1[\"totaltime\"].astype(\"float16\")\n",
    "print( calls1.info())"
   ]
  }
 ],
 "metadata": {
  "kernelspec": {
   "display_name": "venv2DataEngenierPandas",
   "language": "python",
   "name": "python3"
  },
  "language_info": {
   "codemirror_mode": {
    "name": "ipython",
    "version": 3
   },
   "file_extension": ".py",
   "mimetype": "text/x-python",
   "name": "python",
   "nbconvert_exporter": "python",
   "pygments_lexer": "ipython3",
   "version": "3.11.5"
  }
 },
 "nbformat": 4,
 "nbformat_minor": 2
}
